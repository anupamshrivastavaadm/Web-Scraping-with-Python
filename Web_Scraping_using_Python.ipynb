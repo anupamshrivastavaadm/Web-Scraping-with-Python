{
  "nbformat": 4,
  "nbformat_minor": 0,
  "metadata": {
    "colab": {
      "provenance": []
    },
    "kernelspec": {
      "name": "python3",
      "display_name": "Python 3"
    },
    "language_info": {
      "name": "python"
    }
  },
  "cells": [
    {
      "cell_type": "markdown",
      "source": [
        "#Web Scraping using Python\n",
        "\n",
        "Program to get data from the website."
      ],
      "metadata": {
        "id": "eUiDHoh3uNSI"
      }
    },
    {
      "cell_type": "markdown",
      "source": [
        "Installing Packages"
      ],
      "metadata": {
        "id": "zsHh_66FNB7L"
      }
    },
    {
      "cell_type": "code",
      "source": [
        "pip install requests"
      ],
      "metadata": {
        "colab": {
          "base_uri": "https://localhost:8080/"
        },
        "id": "7XP95k3vM2HN",
        "outputId": "5cc429d1-f772-4879-c0df-f2f879599a25"
      },
      "execution_count": 73,
      "outputs": [
        {
          "output_type": "stream",
          "name": "stdout",
          "text": [
            "Looking in indexes: https://pypi.org/simple, https://us-python.pkg.dev/colab-wheels/public/simple/\n",
            "Requirement already satisfied: requests in /usr/local/lib/python3.10/dist-packages (2.27.1)\n",
            "Requirement already satisfied: urllib3<1.27,>=1.21.1 in /usr/local/lib/python3.10/dist-packages (from requests) (1.26.15)\n",
            "Requirement already satisfied: certifi>=2017.4.17 in /usr/local/lib/python3.10/dist-packages (from requests) (2022.12.7)\n",
            "Requirement already satisfied: charset-normalizer~=2.0.0 in /usr/local/lib/python3.10/dist-packages (from requests) (2.0.12)\n",
            "Requirement already satisfied: idna<4,>=2.5 in /usr/local/lib/python3.10/dist-packages (from requests) (3.4)\n"
          ]
        }
      ]
    },
    {
      "cell_type": "code",
      "source": [
        "pip install bs4"
      ],
      "metadata": {
        "colab": {
          "base_uri": "https://localhost:8080/"
        },
        "id": "8BrGFyDpNF75",
        "outputId": "6e06a77c-b3ea-4778-aea6-828a7a36c3b0"
      },
      "execution_count": 74,
      "outputs": [
        {
          "output_type": "stream",
          "name": "stdout",
          "text": [
            "Looking in indexes: https://pypi.org/simple, https://us-python.pkg.dev/colab-wheels/public/simple/\n",
            "Requirement already satisfied: bs4 in /usr/local/lib/python3.10/dist-packages (0.0.1)\n",
            "Requirement already satisfied: beautifulsoup4 in /usr/local/lib/python3.10/dist-packages (from bs4) (4.11.2)\n",
            "Requirement already satisfied: soupsieve>1.2 in /usr/local/lib/python3.10/dist-packages (from beautifulsoup4->bs4) (2.4.1)\n"
          ]
        }
      ]
    },
    {
      "cell_type": "code",
      "source": [
        "#importing libraries\n",
        "import requests as rq\n",
        "from bs4 import BeautifulSoup as bs"
      ],
      "metadata": {
        "id": "iL-TfykaNIwR"
      },
      "execution_count": 75,
      "outputs": []
    },
    {
      "cell_type": "code",
      "source": [
        "#Let's get the page content from the given website\n",
        "url = \"https://codingwithas.blogspot.com/\"\n",
        "webpage = rq.get(url)\n",
        "soup = bs(webpage.content, 'html.parser')"
      ],
      "metadata": {
        "id": "HZVywA84NUR8"
      },
      "execution_count": 76,
      "outputs": []
    },
    {
      "cell_type": "code",
      "source": [
        "#Now we will scrape the data which we want to scrape from website\n",
        "scrapedata = soup.find_all('h3', attrs = {'class': 'post-title'})"
      ],
      "metadata": {
        "id": "cRwu56ZlNroq"
      },
      "execution_count": 77,
      "outputs": []
    },
    {
      "cell_type": "code",
      "source": [
        "#Let's print the data\n",
        "print(scrapedata)"
      ],
      "metadata": {
        "colab": {
          "base_uri": "https://localhost:8080/"
        },
        "id": "SCe-JI7ROBBq",
        "outputId": "c300a07c-c069-4ded-f464-a87ad5267ced"
      },
      "execution_count": 78,
      "outputs": [
        {
          "output_type": "stream",
          "name": "stdout",
          "text": [
            "[<h3 class=\"post-title\"><a href=\"https://codingwithas.blogspot.com/2023/03/generate-qr-code-for-resumes-using.html\">GENERATE A QR CODE FOR RESUMES USING PYTHON</a></h3>, <h3 class=\"post-title entry-title\">\n",
            "<a href=\"https://codingwithas.blogspot.com/2023/03/window_10.html\">TECHNICAL CODING INTERVIEW QUESTIONS FOR A DATA ANALYST FRESHER</a>\n",
            "</h3>, <h3 class=\"post-title entry-title\">\n",
            "<a href=\"https://codingwithas.blogspot.com/2023/03/10-data-scientist-intern-interview.html\">10 DATA SCIENTIST INTERN INTERVIEW QUESTIONS WITH ANSWERS</a>\n",
            "</h3>, <h3 class=\"post-title entry-title\">\n",
            "<a href=\"https://codingwithas.blogspot.com/2023/03/python-program-to-generate-personalized.html\">PYTHON PROGRAM TO GENERATE \"HAPPY WOMEN'S DAY\" USING MACHINE LEARNING </a>\n",
            "</h3>, <h3 class=\"post-title entry-title\">\n",
            "<a href=\"https://codingwithas.blogspot.com/2023/03/10-important-coding-interview-question.html\">10 Important Coding Interview Question for Python with Answers and Explanations</a>\n",
            "</h3>]\n"
          ]
        }
      ]
    },
    {
      "cell_type": "code",
      "source": [
        "#Let's remove the tags and removing extra data, making a list of data\n",
        "scrapedata_list = []\n",
        "for data in scrapedata:\n",
        "  print(data.text)"
      ],
      "metadata": {
        "colab": {
          "base_uri": "https://localhost:8080/"
        },
        "id": "nbr_9YUdOFgy",
        "outputId": "fdf72f80-ea3e-4327-a37a-c7341610e348"
      },
      "execution_count": 79,
      "outputs": [
        {
          "output_type": "stream",
          "name": "stdout",
          "text": [
            "GENERATE A QR CODE FOR RESUMES USING PYTHON\n",
            "\n",
            "TECHNICAL CODING INTERVIEW QUESTIONS FOR A DATA ANALYST FRESHER\n",
            "\n",
            "\n",
            "10 DATA SCIENTIST INTERN INTERVIEW QUESTIONS WITH ANSWERS\n",
            "\n",
            "\n",
            "PYTHON PROGRAM TO GENERATE \"HAPPY WOMEN'S DAY\" USING MACHINE LEARNING \n",
            "\n",
            "\n",
            "10 Important Coding Interview Question for Python with Answers and Explanations\n",
            "\n"
          ]
        }
      ]
    },
    {
      "cell_type": "code",
      "source": [],
      "metadata": {
        "id": "lOaF1bbzOaha"
      },
      "execution_count": null,
      "outputs": []
    }
  ]
}